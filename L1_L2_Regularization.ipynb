{
 "cells": [
  {
   "cell_type": "code",
   "execution_count": 1,
   "id": "ecf472d7-31a3-4c08-b9fa-dfa392dd6036",
   "metadata": {},
   "outputs": [],
   "source": [
    "import numpy as np\n",
    "import pandas as pd\n",
    "from sklearn.linear_model import LinearRegression, Lasso, Ridge\n",
    "from sklearn.model_selection import train_test_split\n",
    "from sklearn.metrics import r2_score\n",
    "import matplotlib.pyplot as plt"
   ]
  },
  {
   "cell_type": "code",
   "execution_count": 2,
   "id": "eda18939-3edf-4a99-92d1-0d994efd17d9",
   "metadata": {},
   "outputs": [
    {
     "data": {
      "text/html": [
       "<div>\n",
       "<style scoped>\n",
       "    .dataframe tbody tr th:only-of-type {\n",
       "        vertical-align: middle;\n",
       "    }\n",
       "\n",
       "    .dataframe tbody tr th {\n",
       "        vertical-align: top;\n",
       "    }\n",
       "\n",
       "    .dataframe thead th {\n",
       "        text-align: right;\n",
       "    }\n",
       "</style>\n",
       "<table border=\"1\" class=\"dataframe\">\n",
       "  <thead>\n",
       "    <tr style=\"text-align: right;\">\n",
       "      <th></th>\n",
       "      <th>f1</th>\n",
       "      <th>f2</th>\n",
       "      <th>f3</th>\n",
       "      <th>f4</th>\n",
       "      <th>f5</th>\n",
       "      <th>f6</th>\n",
       "      <th>f7</th>\n",
       "      <th>f8</th>\n",
       "      <th>f9</th>\n",
       "      <th>f10</th>\n",
       "      <th>...</th>\n",
       "      <th>f142</th>\n",
       "      <th>f143</th>\n",
       "      <th>f144</th>\n",
       "      <th>f145</th>\n",
       "      <th>f146</th>\n",
       "      <th>f147</th>\n",
       "      <th>f148</th>\n",
       "      <th>f149</th>\n",
       "      <th>f150</th>\n",
       "      <th>target</th>\n",
       "    </tr>\n",
       "  </thead>\n",
       "  <tbody>\n",
       "    <tr>\n",
       "      <th>0</th>\n",
       "      <td>-0.924357</td>\n",
       "      <td>-0.326536</td>\n",
       "      <td>-1.875007</td>\n",
       "      <td>-1.780626</td>\n",
       "      <td>-0.630143</td>\n",
       "      <td>0.788204</td>\n",
       "      <td>2.792209</td>\n",
       "      <td>-0.772192</td>\n",
       "      <td>-0.450994</td>\n",
       "      <td>0.400000</td>\n",
       "      <td>...</td>\n",
       "      <td>0.968645</td>\n",
       "      <td>-0.702053</td>\n",
       "      <td>-0.327662</td>\n",
       "      <td>-0.392108</td>\n",
       "      <td>-1.463515</td>\n",
       "      <td>0.296120</td>\n",
       "      <td>0.261055</td>\n",
       "      <td>0.005113</td>\n",
       "      <td>-0.234587</td>\n",
       "      <td>10.681366</td>\n",
       "    </tr>\n",
       "    <tr>\n",
       "      <th>1</th>\n",
       "      <td>0.001795</td>\n",
       "      <td>-1.285599</td>\n",
       "      <td>-0.726774</td>\n",
       "      <td>0.385711</td>\n",
       "      <td>0.891863</td>\n",
       "      <td>0.599451</td>\n",
       "      <td>-0.140553</td>\n",
       "      <td>-0.761760</td>\n",
       "      <td>0.117707</td>\n",
       "      <td>0.333231</td>\n",
       "      <td>...</td>\n",
       "      <td>0.856399</td>\n",
       "      <td>0.214094</td>\n",
       "      <td>-1.245739</td>\n",
       "      <td>0.173181</td>\n",
       "      <td>0.385317</td>\n",
       "      <td>-0.883857</td>\n",
       "      <td>0.153725</td>\n",
       "      <td>0.058209</td>\n",
       "      <td>-1.142970</td>\n",
       "      <td>-60.163343</td>\n",
       "    </tr>\n",
       "    <tr>\n",
       "      <th>2</th>\n",
       "      <td>0.956702</td>\n",
       "      <td>2.319330</td>\n",
       "      <td>-0.705012</td>\n",
       "      <td>0.081829</td>\n",
       "      <td>0.330880</td>\n",
       "      <td>0.838491</td>\n",
       "      <td>2.493000</td>\n",
       "      <td>1.227669</td>\n",
       "      <td>-0.785989</td>\n",
       "      <td>-0.920674</td>\n",
       "      <td>...</td>\n",
       "      <td>-0.493001</td>\n",
       "      <td>-0.589365</td>\n",
       "      <td>0.849602</td>\n",
       "      <td>0.357015</td>\n",
       "      <td>-0.692910</td>\n",
       "      <td>0.899600</td>\n",
       "      <td>0.307300</td>\n",
       "      <td>0.812862</td>\n",
       "      <td>0.629629</td>\n",
       "      <td>131.226545</td>\n",
       "    </tr>\n",
       "    <tr>\n",
       "      <th>3</th>\n",
       "      <td>-0.982294</td>\n",
       "      <td>0.190424</td>\n",
       "      <td>1.082691</td>\n",
       "      <td>0.714610</td>\n",
       "      <td>-1.907808</td>\n",
       "      <td>0.224216</td>\n",
       "      <td>0.156973</td>\n",
       "      <td>0.556553</td>\n",
       "      <td>0.058984</td>\n",
       "      <td>-1.397118</td>\n",
       "      <td>...</td>\n",
       "      <td>0.491919</td>\n",
       "      <td>-1.320233</td>\n",
       "      <td>1.831459</td>\n",
       "      <td>1.179440</td>\n",
       "      <td>-0.469176</td>\n",
       "      <td>-1.713135</td>\n",
       "      <td>1.353872</td>\n",
       "      <td>-0.114540</td>\n",
       "      <td>1.237816</td>\n",
       "      <td>-131.889020</td>\n",
       "    </tr>\n",
       "    <tr>\n",
       "      <th>4</th>\n",
       "      <td>-0.057061</td>\n",
       "      <td>-0.592465</td>\n",
       "      <td>-2.850030</td>\n",
       "      <td>-1.935430</td>\n",
       "      <td>2.002427</td>\n",
       "      <td>-1.012644</td>\n",
       "      <td>1.059950</td>\n",
       "      <td>-1.000629</td>\n",
       "      <td>0.141596</td>\n",
       "      <td>-0.642776</td>\n",
       "      <td>...</td>\n",
       "      <td>1.479944</td>\n",
       "      <td>0.077368</td>\n",
       "      <td>-0.861284</td>\n",
       "      <td>1.523124</td>\n",
       "      <td>0.538910</td>\n",
       "      <td>-1.037246</td>\n",
       "      <td>-0.190339</td>\n",
       "      <td>-0.875618</td>\n",
       "      <td>-1.382800</td>\n",
       "      <td>-138.566956</td>\n",
       "    </tr>\n",
       "  </tbody>\n",
       "</table>\n",
       "<p>5 rows × 151 columns</p>\n",
       "</div>"
      ],
      "text/plain": [
       "         f1        f2        f3        f4        f5        f6        f7  \\\n",
       "0 -0.924357 -0.326536 -1.875007 -1.780626 -0.630143  0.788204  2.792209   \n",
       "1  0.001795 -1.285599 -0.726774  0.385711  0.891863  0.599451 -0.140553   \n",
       "2  0.956702  2.319330 -0.705012  0.081829  0.330880  0.838491  2.493000   \n",
       "3 -0.982294  0.190424  1.082691  0.714610 -1.907808  0.224216  0.156973   \n",
       "4 -0.057061 -0.592465 -2.850030 -1.935430  2.002427 -1.012644  1.059950   \n",
       "\n",
       "         f8        f9       f10  ...      f142      f143      f144      f145  \\\n",
       "0 -0.772192 -0.450994  0.400000  ...  0.968645 -0.702053 -0.327662 -0.392108   \n",
       "1 -0.761760  0.117707  0.333231  ...  0.856399  0.214094 -1.245739  0.173181   \n",
       "2  1.227669 -0.785989 -0.920674  ... -0.493001 -0.589365  0.849602  0.357015   \n",
       "3  0.556553  0.058984 -1.397118  ...  0.491919 -1.320233  1.831459  1.179440   \n",
       "4 -1.000629  0.141596 -0.642776  ...  1.479944  0.077368 -0.861284  1.523124   \n",
       "\n",
       "       f146      f147      f148      f149      f150      target  \n",
       "0 -1.463515  0.296120  0.261055  0.005113 -0.234587   10.681366  \n",
       "1  0.385317 -0.883857  0.153725  0.058209 -1.142970  -60.163343  \n",
       "2 -0.692910  0.899600  0.307300  0.812862  0.629629  131.226545  \n",
       "3 -0.469176 -1.713135  1.353872 -0.114540  1.237816 -131.889020  \n",
       "4  0.538910 -1.037246 -0.190339 -0.875618 -1.382800 -138.566956  \n",
       "\n",
       "[5 rows x 151 columns]"
      ]
     },
     "execution_count": 2,
     "metadata": {},
     "output_type": "execute_result"
    }
   ],
   "source": [
    "df=pd.read_csv(\"dataset.csv\")\n",
    "df.head()"
   ]
  },
  {
   "cell_type": "code",
   "execution_count": 3,
   "id": "3b6e99a1-0fc9-46c2-890e-22ff173348e9",
   "metadata": {},
   "outputs": [],
   "source": [
    "x=df.drop(['target'],axis=1)\n",
    "y=df['target']\n"
   ]
  },
  {
   "cell_type": "code",
   "execution_count": 7,
   "id": "ba5d6292-17fe-4e9a-b68c-5bc9e7922df9",
   "metadata": {},
   "outputs": [],
   "source": [
    "x_train,x_test,y_train,y_test=train_test_split(x,y,test_size=0.25,random_state=42)"
   ]
  },
  {
   "cell_type": "code",
   "execution_count": 8,
   "id": "3dd467bd-7942-483e-a523-dfbc131e21a5",
   "metadata": {},
   "outputs": [
    {
     "data": {
      "text/plain": [
       "0.7410183335246836"
      ]
     },
     "execution_count": 8,
     "metadata": {},
     "output_type": "execute_result"
    }
   ],
   "source": [
    "lm=LinearRegression()\n",
    "lm.fit(x_train,y_train)\n",
    "lm.score(x_test,y_test)"
   ]
  },
  {
   "cell_type": "code",
   "execution_count": 9,
   "id": "610507da-63ce-4f21-8e3c-f6537e33913b",
   "metadata": {},
   "outputs": [
    {
     "data": {
      "text/plain": [
       "0.9901476660336155"
      ]
     },
     "execution_count": 9,
     "metadata": {},
     "output_type": "execute_result"
    }
   ],
   "source": [
    "lasso_model=Lasso(alpha=1.0)\n",
    "lasso_model.fit(x_train,y_train)\n",
    "lasso_model.score(x_test,y_test)"
   ]
  },
  {
   "cell_type": "code",
   "execution_count": 18,
   "id": "9daed922-3cb3-4791-8217-17996e9e2607",
   "metadata": {},
   "outputs": [
    {
     "data": {
      "text/plain": [
       "0.9464929142523454"
      ]
     },
     "execution_count": 18,
     "metadata": {},
     "output_type": "execute_result"
    }
   ],
   "source": [
    "ridge_model=Ridge(alpha=0.5)\n",
    "ridge_model.fit(x_train,y_train)\n",
    "ridge_model.score(x_test,y_test)"
   ]
  }
 ],
 "metadata": {
  "kernelspec": {
   "display_name": "Python 3 (ipykernel)",
   "language": "python",
   "name": "python3"
  },
  "language_info": {
   "codemirror_mode": {
    "name": "ipython",
    "version": 3
   },
   "file_extension": ".py",
   "mimetype": "text/x-python",
   "name": "python",
   "nbconvert_exporter": "python",
   "pygments_lexer": "ipython3",
   "version": "3.13.4"
  }
 },
 "nbformat": 4,
 "nbformat_minor": 5
}
